{
 "cells": [
  {
   "cell_type": "code",
   "execution_count": 2,
   "metadata": {},
   "outputs": [],
   "source": [
    "### import tensorflow as tf\n",
    "import os\n",
    "from os.path import isfile, join\n",
    "import numpy as np\n",
    "import shutil\n",
    "from tensorflow import keras\n",
    "from pathlib import Path\n",
    "from IPython.display import display, Audio\n",
    "import subprocess"
   ]
  },
  {
   "cell_type": "code",
   "execution_count": 3,
   "metadata": {},
   "outputs": [
    {
     "name": "stdout",
     "output_type": "stream",
     "text": [
      "Number of Speakers: 10\n",
      "Speaker: Benjamin_Netanyau, Number of Audio Clips: 1500\n",
      "Speaker: Daaman_Shah, Number of Audio Clips: 1500\n",
      "Speaker: Jens_Stoltenberg, Number of Audio Clips: 1500\n",
      "Speaker: Julia_Gillard, Number of Audio Clips: 1501\n",
      "Speaker: Magaret_Tarcher, Number of Audio Clips: 1500\n",
      "Speaker: Nelson_Mandela, Number of Audio Clips: 1500\n",
      "Speaker: other, Number of Audio Clips: 2\n",
      "Speaker: Rishit Saboo, Number of Audio Clips: 1500\n",
      "Speaker: _background_noise_, Number of Audio Clips: 4\n"
     ]
    }
   ],
   "source": [
    "\n",
    "import os\n",
    "import librosa\n",
    "import librosa.display\n",
    "import matplotlib.pyplot as plt\n",
    "\n",
    "# Path to your dataset directory\n",
    "dataset_directory = r'C:\\Users\\HP\\Desktop\\input\\data\\16000'\n",
    "\n",
    "# List all speaker directories\n",
    "speaker_directories = os.listdir(dataset_directory)\n",
    "\n",
    "# Ignore specific file\n",
    "file_to_ignore = 'tf_Wav_reader.py'\n",
    "\n",
    "# Count the number of speakers\n",
    "num_speakers = len(speaker_directories)\n",
    "print(f\"Number of Speakers: {num_speakers}\")\n",
    "\n",
    "# Iterate through speaker directories\n",
    "for speaker_dir in speaker_directories:\n",
    "    if speaker_dir == file_to_ignore:\n",
    "        continue  # Skip the file you want to ignore\n",
    "    speaker_path = os.path.join(dataset_directory, speaker_dir)\n",
    "\n",
    "    # Count the number of audio clips for each speaker\n",
    "    num_audio_clips = len(os.listdir(speaker_path))\n",
    "    print(f\"Speaker: {speaker_dir}, Number of Audio Clips: {num_audio_clips}\")\n",
    "\n",
    "   \n",
    "\n"
   ]
  },
  {
   "cell_type": "code",
   "execution_count": 4,
   "metadata": {},
   "outputs": [],
   "source": [
    "# Import the required packages\n",
    "import os\n",
    "import numpy as np \n",
    "import tensorflow as tf\n",
    "import matplotlib.pyplot as plt\n",
    "import pathlib\n",
    "import librosa.display\n",
    "from tqdm import tqdm\n",
    "from sklearn.metrics import confusion_matrix\n",
    "from sklearn.model_selection import train_test_split\n",
    "\n"
   ]
  },
  {
   "cell_type": "code",
   "execution_count": 5,
   "metadata": {},
   "outputs": [
    {
     "data": {
      "text/plain": [
       "['Benjamin_Netanyau',\n",
       " 'Daaman_Shah',\n",
       " 'Jens_Stoltenberg',\n",
       " 'Julia_Gillard',\n",
       " 'Magaret_Tarcher',\n",
       " 'Nelson_Mandela',\n",
       " 'Rishit Saboo']"
      ]
     },
     "execution_count": 5,
     "metadata": {},
     "output_type": "execute_result"
    }
   ],
   "source": [
    "# Get the data directories\n",
    "data_dir = r'C:\\Users\\HP\\Desktop\\input\\data\\16000'\n",
    "clas= os.listdir(data_dir)\n",
    "clas.pop(9)\n",
    "clas.pop(8)\n",
    "clas.pop(6)\n",
    "claas =clas\n",
    "claas"
   ]
  },
  {
   "cell_type": "code",
   "execution_count": 6,
   "metadata": {},
   "outputs": [],
   "source": [
    "# get wav paths\n",
    "def get_wav_paths(speaker):\n",
    "    speaker_path = data_dir + speaker\n",
    "    all_paths = [item for item in os.listdir(speaker_path)]\n",
    "    return all_paths"
   ]
  },
  {
   "cell_type": "code",
   "execution_count": 7,
   "metadata": {},
   "outputs": [],
   "source": [
    "nelson_mandela_paths = get_wav_paths(r\"\\Nelson_Mandela\")\n",
    "margaret_thatcher_paths = get_wav_paths(r\"\\Magaret_Tarcher\")\n",
    "benjamin_netanyau_paths = get_wav_paths(r\"\\Benjamin_Netanyau\")\n",
    "jens_stoltenberg_paths = get_wav_paths( r'\\Jens_Stoltenberg')\n",
    "julia_gillard_paths = get_wav_paths(r\"\\Julia_Gillard\")\n",
    "daaman_shah_paths =get_wav_paths(r\"\\Daaman_Shah\")\n",
    "rishit_saboo_paths =get_wav_paths(r\"\\Rishit Saboo\")\n",
    "\n",
    "noise1_paths = get_wav_paths(r\"\\_background_noise_\")\n",
    "noise2_paths = get_wav_paths(r\"\\other\")"
   ]
  },
  {
   "cell_type": "code",
   "execution_count": 8,
   "metadata": {},
   "outputs": [],
   "source": [
    "# load the data\n",
    "def load_wav(wav_path, speaker):\n",
    "    with tf.compat.v1.Session(graph=tf.compat.v1.Graph()) as sess:\n",
    "        wav_path = data_dir + speaker + \"/\" + wav_path\n",
    "        wav_filename_placeholder = tf.compat.v1.placeholder(tf.compat.v1.string, [])\n",
    "        wav_loader = tf.io.read_file(wav_filename_placeholder)\n",
    "        wav_decoder = tf.audio.decode_wav(wav_loader, desired_channels=1)\n",
    "        wav_data = sess.run(\n",
    "            wav_decoder, feed_dict={\n",
    "                wav_filename_placeholder: wav_path\n",
    "            }).audio.flatten().reshape((1, 16000)) #16000\n",
    "        sess.close()\n",
    "    return wav_data"
   ]
  },
  {
   "cell_type": "code",
   "execution_count": 9,
   "metadata": {},
   "outputs": [],
   "source": [
    "# create training data\n",
    "def generate_training_data(speaker_paths, speaker, label):\n",
    "    wavs, labels = [], []\n",
    "    for i in tqdm(speaker_paths):\n",
    "        wav = load_wav(i, speaker)\n",
    "        wavs.append(wav)\n",
    "        labels.append(label)\n",
    "    return wavs, labels"
   ]
  },
  {
   "cell_type": "code",
   "execution_count": 10,
   "metadata": {},
   "outputs": [
    {
     "name": "stderr",
     "output_type": "stream",
     "text": [
      "  0%|          | 0/1500 [00:00<?, ?it/s]"
     ]
    },
    {
     "name": "stdout",
     "output_type": "stream",
     "text": [
      "WARNING:tensorflow:From C:\\Users\\HP\\AppData\\Local\\Temp\\ipykernel_10912\\2898227394.py:3: The name tf.Session is deprecated. Please use tf.compat.v1.Session instead.\n",
      "\n"
     ]
    },
    {
     "name": "stderr",
     "output_type": "stream",
     "text": [
      "100%|██████████| 1500/1500 [00:18<00:00, 83.12it/s]\n",
      "100%|██████████| 1500/1500 [00:16<00:00, 89.96it/s]\n",
      "100%|██████████| 1500/1500 [00:15<00:00, 95.64it/s]\n",
      "100%|██████████| 1500/1500 [00:16<00:00, 89.46it/s]\n",
      "100%|██████████| 1501/1501 [00:16<00:00, 89.76it/s]\n",
      "100%|██████████| 1500/1500 [00:15<00:00, 96.26it/s]\n",
      "100%|██████████| 1500/1500 [00:15<00:00, 95.78it/s]\n"
     ]
    }
   ],
   "source": [
    "nelson_mandela_wavs, nelson_mandela_labels = generate_training_data(nelson_mandela_paths, r\"/Nelson_Mandela\", 0) \n",
    "margaret_thatcher_wavs, margaret_thatcher_labels = generate_training_data(margaret_thatcher_paths, r\"\\Magaret_Tarcher\", 1) \n",
    "benjamin_netanyau_wavs, benjamin_netanyau_labels = generate_training_data(benjamin_netanyau_paths, r\"\\Benjamin_Netanyau\", 2) \n",
    "jens_stoltenberg_wavs, jens_stoltenberg_labels = generate_training_data(jens_stoltenberg_paths, r\"\\Jens_Stoltenberg\", 3) \n",
    "julia_gillard_wavs, julia_gillard_labels = generate_training_data(julia_gillard_paths, r\"\\Julia_Gillard\", 4) \n",
    "rishit_saboo_wavs ,rishit_saboo_labels = generate_training_data(rishit_saboo_paths,r\"/Rishit Saboo\", 5)\n",
    "daaman_shah_wavs,daaman_shah_labels =generate_training_data(daaman_shah_paths,r\"/Daaman_Shah\", 6)"
   ]
  },
  {
   "cell_type": "code",
   "execution_count": 11,
   "metadata": {},
   "outputs": [],
   "source": [
    "# remove the extra wav for Julia Gillard\n",
    "julia_gillard_labels = julia_gillard_labels[1:]\n",
    "julia_gillard_wavs = julia_gillard_wavs[1:]"
   ]
  },
  {
   "cell_type": "code",
   "execution_count": 12,
   "metadata": {},
   "outputs": [],
   "source": [
    "all_wavs = nelson_mandela_wavs + margaret_thatcher_wavs + benjamin_netanyau_wavs + jens_stoltenberg_wavs + julia_gillard_wavs + daaman_shah_wavs + rishit_saboo_wavs\n",
    "all_labels = nelson_mandela_labels + margaret_thatcher_labels + benjamin_netanyau_labels + jens_stoltenberg_labels + julia_gillard_labels + daaman_shah_labels + rishit_saboo_labels"
   ]
  },
  {
   "cell_type": "code",
   "execution_count": 13,
   "metadata": {},
   "outputs": [
    {
     "name": "stderr",
     "output_type": "stream",
     "text": [
      "C:\\Users\\HP\\AppData\\Local\\Temp\\ipykernel_10912\\3622996277.py:46: WavFileWarning: Chunk (non-data) not understood, skipping it.\n",
      "  fs, noise_file = read(data_dir + r'\\_background_noise_/' + noise)\n"
     ]
    },
    {
     "name": "stdout",
     "output_type": "stream",
     "text": [
      "0\n",
      "200\n",
      "400\n",
      "600\n",
      "800\n",
      "1000\n",
      "1200\n",
      "1400\n",
      "1600\n",
      "1800\n",
      "2000\n",
      "2200\n",
      "2400\n",
      "2600\n",
      "2800\n",
      "3000\n",
      "3200\n",
      "3400\n",
      "3600\n",
      "3800\n",
      "4000\n",
      "4200\n",
      "4400\n",
      "4600\n",
      "4800\n",
      "5000\n",
      "5200\n",
      "5400\n",
      "5600\n",
      "5800\n",
      "6000\n",
      "6200\n",
      "6400\n",
      "6600\n",
      "6800\n",
      "7000\n",
      "7200\n",
      "7400\n",
      "7600\n",
      "7800\n",
      "8000\n",
      "8200\n",
      "8400\n",
      "8600\n",
      "8800\n",
      "9000\n",
      "9200\n",
      "9400\n",
      "9600\n",
      "9800\n",
      "10000\n",
      "10200\n",
      "10400\n"
     ]
    }
   ],
   "source": [
    "from scipy.io.wavfile import read\n",
    "from scipy.io.wavfile import write\n",
    "from random import randint\n",
    "\n",
    "def cut_random_section(noise2, size2):\n",
    "    size21 = noise2.size\n",
    "    starting_point2 = randint(0,(noise2.size - size2))\n",
    "    end_point2 = starting_point2 + size2\n",
    "    noise_cut_part2 = noise2[starting_point2:end_point2]\n",
    "    return noise_cut_part2\n",
    "\n",
    "def mix(audio1, noise1, snr1):\n",
    "    audio_max = max(audio1)\n",
    "    if audio_max==0:\n",
    "        audio_max = int(np.random.uniform(0.7,1)*32767)\n",
    "    audio1 = audio1*1.\n",
    "    audio1 = audio1/audio_max\n",
    "    noise1 = cut_random_section(noise1, audio1.size)\n",
    "    noise1 = noise1*1.\n",
    "    noise1 = noise1/max(noise1)\n",
    "    gain = pow(10,(snr1/10.))\n",
    "    numerator = np.mean(abs(audio1)**2)\n",
    "    denominator = numerator/gain\n",
    "    noise_power = np.mean(abs(noise1)**2)\n",
    "    mult_value = (denominator/noise_power)**0.5\n",
    "    noisy1 = audio1 + noise1*mult_value\n",
    "    if max(audio1)==0:\n",
    "        noisy1 = noise1\n",
    "    else:    \n",
    "        noisy1 = noisy1/max(noisy1)\n",
    "    noisy1 = np.array(noisy1*audio_max, dtype='int16')\n",
    "    return noise1*mult_value, mult_value, noisy1\n",
    "\n",
    "noise_wavs = []\n",
    "noise_labels = []\n",
    "snr_dB = 10\n",
    "for i in range(len(all_wavs)):\n",
    "    for noise in os.listdir(data_dir + r'\\other'):\n",
    "        fs, noise_file = read(data_dir + r'\\other/' + noise)\n",
    "        x = all_wavs[i][0]\n",
    "        noise_temp, mult_value, noisy = mix(x, noise_file, snr_dB)\n",
    "        if noisy.any() != 0:\n",
    "            noise_wavs.append(noisy)\n",
    "            noise_labels.append(all_labels[i])\n",
    "    for noise in os.listdir(data_dir + r'\\_background_noise_'):\n",
    "        fs, noise_file = read(data_dir + r'\\_background_noise_/' + noise)\n",
    "        x = all_wavs[i][0]\n",
    "        if len(noise_file.shape) > 1:\n",
    "            noise_file = np.reshape(noise_file, (noise_file.shape[0]*noise_file.shape[1]))\n",
    "        noise_temp, mult_value, noisy = mix(x, noise_file, snr_dB)\n",
    "        if noisy.any() != 0:\n",
    "            noise_wavs.append(noisy)\n",
    "            noise_labels.append(all_labels[i]) \n",
    "    if i%200 == 0:\n",
    "        print(i)"
   ]
  },
  {
   "cell_type": "code",
   "execution_count": 14,
   "metadata": {},
   "outputs": [
    {
     "name": "stdout",
     "output_type": "stream",
     "text": [
      "(11135, 16000) (11135,)\n"
     ]
    }
   ],
   "source": [
    "for i in range(len(all_wavs)):\n",
    "    noise_labels.append(all_labels[i])\n",
    "    noise_wavs.append(all_wavs[i][0])\n",
    "final_wavs = np.array(noise_wavs)\n",
    "final_labels = np.array(noise_labels)\n",
    "\n",
    "print(final_wavs.shape, final_labels.shape)"
   ]
  },
  {
   "cell_type": "code",
   "execution_count": 15,
   "metadata": {},
   "outputs": [],
   "source": [
    "# split the dataset into training and testing set\\\n",
    "train_wavs, test_wavs, train_labels, test_labels = train_test_split(final_wavs, final_labels, test_size=0.2)"
   ]
  },
  {
   "cell_type": "code",
   "execution_count": 16,
   "metadata": {},
   "outputs": [],
   "source": [
    "train_x, train_y = np.array(train_wavs), np.array(train_labels)\n",
    "test_x, test_y = np.array(test_wavs), np.array(test_labels)"
   ]
  },
  {
   "cell_type": "code",
   "execution_count": 17,
   "metadata": {},
   "outputs": [],
   "source": [
    "train_y = tf.keras.utils.to_categorical(train_y)\n",
    "test_y = tf.keras.utils.to_categorical(test_y)"
   ]
  },
  {
   "cell_type": "code",
   "execution_count": 18,
   "metadata": {},
   "outputs": [
    {
     "name": "stderr",
     "output_type": "stream",
     "text": [
      "c:\\Users\\HP\\Desktop\\project\\pro\\Lib\\site-packages\\librosa\\feature\\spectral.py:2143: UserWarning: Empty filters detected in mel frequency basis. Some channels will produce empty responses. Try increasing your sampling rate (and fmax) or reducing n_mels.\n",
      "  mel_basis = filters.mel(sr=sr, n_fft=n_fft, **kwargs)\n"
     ]
    },
    {
     "name": "stdout",
     "output_type": "stream",
     "text": [
      "Train 500\n",
      "Train 1000\n",
      "Train 1500\n",
      "Train 2000\n",
      "Train 2500\n",
      "Train 3000\n",
      "Train 3500\n",
      "Train 4000\n",
      "Train 4500\n",
      "Train 5000\n",
      "Train 5500\n",
      "Train 6000\n",
      "Train 6500\n",
      "Train 7000\n",
      "Train 7500\n",
      "Train 8000\n",
      "Train 8500\n",
      "Test 500\n",
      "Test 1000\n",
      "Test 1500\n",
      "Test 2000\n"
     ]
    }
   ],
   "source": [
    "# MFCC Feature Extraction\n",
    "\n",
    "train_x_new = []\n",
    "test_x_new = []\n",
    "INPUT_SHAPE = (126,40)\n",
    "\n",
    "train_x_new = np.zeros((train_x.shape[0], INPUT_SHAPE[0], INPUT_SHAPE[1]), dtype=np.float64)\n",
    "\n",
    "count = 0\n",
    "for sample in train_x:\n",
    "    mfcc = librosa.feature.mfcc(y=sample, sr=16000, hop_length=128, n_fft=256, n_mfcc=20)\n",
    "    mfcc_delta = librosa.feature.delta(mfcc)[:10, :]\n",
    "    mfcc_double_delta = librosa.feature.delta(mfcc, order=2)[:10, :]\n",
    "    train_x_new[count, :, :20] = mfcc.T\n",
    "    train_x_new[count, :, 20:30] = mfcc_delta.T\n",
    "    train_x_new[count, :, 30:] = mfcc_double_delta.T\n",
    "    count += 1\n",
    "    if count%500 == 0:\n",
    "        print('Train', count)\n",
    "        \n",
    "test_x_new = np.zeros((test_x.shape[0], INPUT_SHAPE[0], INPUT_SHAPE[1]), dtype=np.float64)\n",
    "\n",
    "count = 0\n",
    "for sample in test_x:\n",
    "    mfcc = librosa.feature.mfcc(y=sample, sr=16000, hop_length=128, n_fft=256, n_mfcc=20)\n",
    "    mfcc_delta = librosa.feature.delta(mfcc)[:10, :]\n",
    "    mfcc_double_delta = librosa.feature.delta(mfcc, order=2)[:10, :]\n",
    "    test_x_new[count, :, :20] = mfcc.T\n",
    "    test_x_new[count, :, 20:30] = mfcc_delta.T\n",
    "    test_x_new[count, :, 30:] = mfcc_double_delta.T\n",
    "    count += 1\n",
    "    if count%500 == 0:\n",
    "        print('Test', count)"
   ]
  },
  {
   "cell_type": "code",
   "execution_count": 19,
   "metadata": {},
   "outputs": [
    {
     "name": "stdout",
     "output_type": "stream",
     "text": [
      "(8908, 126, 40, 1) (2227, 126, 40, 1)\n"
     ]
    }
   ],
   "source": [
    "train_x_new = np.expand_dims(train_x_new, axis=3)\n",
    "test_x_new = np.expand_dims(test_x_new, axis=3)\n",
    "print(train_x_new.shape, test_x_new.shape)"
   ]
  },
  {
   "cell_type": "code",
   "execution_count": 20,
   "metadata": {},
   "outputs": [
    {
     "data": {
      "text/html": [
       "<pre style=\"white-space:pre;overflow-x:auto;line-height:normal;font-family:Menlo,'DejaVu Sans Mono',consolas,'Courier New',monospace\"><span style=\"font-weight: bold\">Model: \"functional_1\"</span>\n",
       "</pre>\n"
      ],
      "text/plain": [
       "\u001b[1mModel: \"functional_1\"\u001b[0m\n"
      ]
     },
     "metadata": {},
     "output_type": "display_data"
    },
    {
     "data": {
      "text/html": [
       "<pre style=\"white-space:pre;overflow-x:auto;line-height:normal;font-family:Menlo,'DejaVu Sans Mono',consolas,'Courier New',monospace\">┏━━━━━━━━━━━━━━━━━━━━━┳━━━━━━━━━━━━━━━━━━━┳━━━━━━━━━━━━┳━━━━━━━━━━━━━━━━━━━┓\n",
       "┃<span style=\"font-weight: bold\"> Layer (type)        </span>┃<span style=\"font-weight: bold\"> Output Shape      </span>┃<span style=\"font-weight: bold\">    Param # </span>┃<span style=\"font-weight: bold\"> Connected to      </span>┃\n",
       "┡━━━━━━━━━━━━━━━━━━━━━╇━━━━━━━━━━━━━━━━━━━╇━━━━━━━━━━━━╇━━━━━━━━━━━━━━━━━━━┩\n",
       "│ input_layer         │ (<span style=\"color: #00d7ff; text-decoration-color: #00d7ff\">None</span>, <span style=\"color: #00af00; text-decoration-color: #00af00\">126</span>, <span style=\"color: #00af00; text-decoration-color: #00af00\">40</span>,   │          <span style=\"color: #00af00; text-decoration-color: #00af00\">0</span> │ -                 │\n",
       "│ (<span style=\"color: #0087ff; text-decoration-color: #0087ff\">InputLayer</span>)        │ <span style=\"color: #00af00; text-decoration-color: #00af00\">1</span>)                │            │                   │\n",
       "├─────────────────────┼───────────────────┼────────────┼───────────────────┤\n",
       "│ conv2d_1 (<span style=\"color: #0087ff; text-decoration-color: #0087ff\">Conv2D</span>)   │ (<span style=\"color: #00d7ff; text-decoration-color: #00d7ff\">None</span>, <span style=\"color: #00af00; text-decoration-color: #00af00\">126</span>, <span style=\"color: #00af00; text-decoration-color: #00af00\">40</span>,   │      <span style=\"color: #00af00; text-decoration-color: #00af00\">1,280</span> │ input_layer[<span style=\"color: #00af00; text-decoration-color: #00af00\">0</span>][<span style=\"color: #00af00; text-decoration-color: #00af00\">0</span>] │\n",
       "│                     │ <span style=\"color: #00af00; text-decoration-color: #00af00\">128</span>)              │            │                   │\n",
       "├─────────────────────┼───────────────────┼────────────┼───────────────────┤\n",
       "│ activation          │ (<span style=\"color: #00d7ff; text-decoration-color: #00d7ff\">None</span>, <span style=\"color: #00af00; text-decoration-color: #00af00\">126</span>, <span style=\"color: #00af00; text-decoration-color: #00af00\">40</span>,   │          <span style=\"color: #00af00; text-decoration-color: #00af00\">0</span> │ conv2d_1[<span style=\"color: #00af00; text-decoration-color: #00af00\">0</span>][<span style=\"color: #00af00; text-decoration-color: #00af00\">0</span>]    │\n",
       "│ (<span style=\"color: #0087ff; text-decoration-color: #0087ff\">Activation</span>)        │ <span style=\"color: #00af00; text-decoration-color: #00af00\">128</span>)              │            │                   │\n",
       "├─────────────────────┼───────────────────┼────────────┼───────────────────┤\n",
       "│ conv2d_2 (<span style=\"color: #0087ff; text-decoration-color: #0087ff\">Conv2D</span>)   │ (<span style=\"color: #00d7ff; text-decoration-color: #00d7ff\">None</span>, <span style=\"color: #00af00; text-decoration-color: #00af00\">126</span>, <span style=\"color: #00af00; text-decoration-color: #00af00\">40</span>,   │    <span style=\"color: #00af00; text-decoration-color: #00af00\">147,584</span> │ activation[<span style=\"color: #00af00; text-decoration-color: #00af00\">0</span>][<span style=\"color: #00af00; text-decoration-color: #00af00\">0</span>]  │\n",
       "│                     │ <span style=\"color: #00af00; text-decoration-color: #00af00\">128</span>)              │            │                   │\n",
       "├─────────────────────┼───────────────────┼────────────┼───────────────────┤\n",
       "│ conv2d (<span style=\"color: #0087ff; text-decoration-color: #0087ff\">Conv2D</span>)     │ (<span style=\"color: #00d7ff; text-decoration-color: #00d7ff\">None</span>, <span style=\"color: #00af00; text-decoration-color: #00af00\">126</span>, <span style=\"color: #00af00; text-decoration-color: #00af00\">40</span>,   │        <span style=\"color: #00af00; text-decoration-color: #00af00\">256</span> │ input_layer[<span style=\"color: #00af00; text-decoration-color: #00af00\">0</span>][<span style=\"color: #00af00; text-decoration-color: #00af00\">0</span>] │\n",
       "│                     │ <span style=\"color: #00af00; text-decoration-color: #00af00\">128</span>)              │            │                   │\n",
       "├─────────────────────┼───────────────────┼────────────┼───────────────────┤\n",
       "│ add (<span style=\"color: #0087ff; text-decoration-color: #0087ff\">Add</span>)           │ (<span style=\"color: #00d7ff; text-decoration-color: #00d7ff\">None</span>, <span style=\"color: #00af00; text-decoration-color: #00af00\">126</span>, <span style=\"color: #00af00; text-decoration-color: #00af00\">40</span>,   │          <span style=\"color: #00af00; text-decoration-color: #00af00\">0</span> │ conv2d_2[<span style=\"color: #00af00; text-decoration-color: #00af00\">0</span>][<span style=\"color: #00af00; text-decoration-color: #00af00\">0</span>],   │\n",
       "│                     │ <span style=\"color: #00af00; text-decoration-color: #00af00\">128</span>)              │            │ conv2d[<span style=\"color: #00af00; text-decoration-color: #00af00\">0</span>][<span style=\"color: #00af00; text-decoration-color: #00af00\">0</span>]      │\n",
       "├─────────────────────┼───────────────────┼────────────┼───────────────────┤\n",
       "│ activation_1        │ (<span style=\"color: #00d7ff; text-decoration-color: #00d7ff\">None</span>, <span style=\"color: #00af00; text-decoration-color: #00af00\">126</span>, <span style=\"color: #00af00; text-decoration-color: #00af00\">40</span>,   │          <span style=\"color: #00af00; text-decoration-color: #00af00\">0</span> │ add[<span style=\"color: #00af00; text-decoration-color: #00af00\">0</span>][<span style=\"color: #00af00; text-decoration-color: #00af00\">0</span>]         │\n",
       "│ (<span style=\"color: #0087ff; text-decoration-color: #0087ff\">Activation</span>)        │ <span style=\"color: #00af00; text-decoration-color: #00af00\">128</span>)              │            │                   │\n",
       "├─────────────────────┼───────────────────┼────────────┼───────────────────┤\n",
       "│ max_pooling2d       │ (<span style=\"color: #00d7ff; text-decoration-color: #00d7ff\">None</span>, <span style=\"color: #00af00; text-decoration-color: #00af00\">63</span>, <span style=\"color: #00af00; text-decoration-color: #00af00\">20</span>,    │          <span style=\"color: #00af00; text-decoration-color: #00af00\">0</span> │ activation_1[<span style=\"color: #00af00; text-decoration-color: #00af00\">0</span>][<span style=\"color: #00af00; text-decoration-color: #00af00\">…</span> │\n",
       "│ (<span style=\"color: #0087ff; text-decoration-color: #0087ff\">MaxPooling2D</span>)      │ <span style=\"color: #00af00; text-decoration-color: #00af00\">128</span>)              │            │                   │\n",
       "├─────────────────────┼───────────────────┼────────────┼───────────────────┤\n",
       "│ conv2d_4 (<span style=\"color: #0087ff; text-decoration-color: #0087ff\">Conv2D</span>)   │ (<span style=\"color: #00d7ff; text-decoration-color: #00d7ff\">None</span>, <span style=\"color: #00af00; text-decoration-color: #00af00\">63</span>, <span style=\"color: #00af00; text-decoration-color: #00af00\">20</span>,    │     <span style=\"color: #00af00; text-decoration-color: #00af00\">73,792</span> │ max_pooling2d[<span style=\"color: #00af00; text-decoration-color: #00af00\">0</span>]… │\n",
       "│                     │ <span style=\"color: #00af00; text-decoration-color: #00af00\">64</span>)               │            │                   │\n",
       "├─────────────────────┼───────────────────┼────────────┼───────────────────┤\n",
       "│ activation_2        │ (<span style=\"color: #00d7ff; text-decoration-color: #00d7ff\">None</span>, <span style=\"color: #00af00; text-decoration-color: #00af00\">63</span>, <span style=\"color: #00af00; text-decoration-color: #00af00\">20</span>,    │          <span style=\"color: #00af00; text-decoration-color: #00af00\">0</span> │ conv2d_4[<span style=\"color: #00af00; text-decoration-color: #00af00\">0</span>][<span style=\"color: #00af00; text-decoration-color: #00af00\">0</span>]    │\n",
       "│ (<span style=\"color: #0087ff; text-decoration-color: #0087ff\">Activation</span>)        │ <span style=\"color: #00af00; text-decoration-color: #00af00\">64</span>)               │            │                   │\n",
       "├─────────────────────┼───────────────────┼────────────┼───────────────────┤\n",
       "│ conv2d_5 (<span style=\"color: #0087ff; text-decoration-color: #0087ff\">Conv2D</span>)   │ (<span style=\"color: #00d7ff; text-decoration-color: #00d7ff\">None</span>, <span style=\"color: #00af00; text-decoration-color: #00af00\">63</span>, <span style=\"color: #00af00; text-decoration-color: #00af00\">20</span>,    │     <span style=\"color: #00af00; text-decoration-color: #00af00\">36,928</span> │ activation_2[<span style=\"color: #00af00; text-decoration-color: #00af00\">0</span>][<span style=\"color: #00af00; text-decoration-color: #00af00\">…</span> │\n",
       "│                     │ <span style=\"color: #00af00; text-decoration-color: #00af00\">64</span>)               │            │                   │\n",
       "├─────────────────────┼───────────────────┼────────────┼───────────────────┤\n",
       "│ conv2d_3 (<span style=\"color: #0087ff; text-decoration-color: #0087ff\">Conv2D</span>)   │ (<span style=\"color: #00d7ff; text-decoration-color: #00d7ff\">None</span>, <span style=\"color: #00af00; text-decoration-color: #00af00\">63</span>, <span style=\"color: #00af00; text-decoration-color: #00af00\">20</span>,    │      <span style=\"color: #00af00; text-decoration-color: #00af00\">8,256</span> │ max_pooling2d[<span style=\"color: #00af00; text-decoration-color: #00af00\">0</span>]… │\n",
       "│                     │ <span style=\"color: #00af00; text-decoration-color: #00af00\">64</span>)               │            │                   │\n",
       "├─────────────────────┼───────────────────┼────────────┼───────────────────┤\n",
       "│ add_1 (<span style=\"color: #0087ff; text-decoration-color: #0087ff\">Add</span>)         │ (<span style=\"color: #00d7ff; text-decoration-color: #00d7ff\">None</span>, <span style=\"color: #00af00; text-decoration-color: #00af00\">63</span>, <span style=\"color: #00af00; text-decoration-color: #00af00\">20</span>,    │          <span style=\"color: #00af00; text-decoration-color: #00af00\">0</span> │ conv2d_5[<span style=\"color: #00af00; text-decoration-color: #00af00\">0</span>][<span style=\"color: #00af00; text-decoration-color: #00af00\">0</span>],   │\n",
       "│                     │ <span style=\"color: #00af00; text-decoration-color: #00af00\">64</span>)               │            │ conv2d_3[<span style=\"color: #00af00; text-decoration-color: #00af00\">0</span>][<span style=\"color: #00af00; text-decoration-color: #00af00\">0</span>]    │\n",
       "├─────────────────────┼───────────────────┼────────────┼───────────────────┤\n",
       "│ activation_3        │ (<span style=\"color: #00d7ff; text-decoration-color: #00d7ff\">None</span>, <span style=\"color: #00af00; text-decoration-color: #00af00\">63</span>, <span style=\"color: #00af00; text-decoration-color: #00af00\">20</span>,    │          <span style=\"color: #00af00; text-decoration-color: #00af00\">0</span> │ add_1[<span style=\"color: #00af00; text-decoration-color: #00af00\">0</span>][<span style=\"color: #00af00; text-decoration-color: #00af00\">0</span>]       │\n",
       "│ (<span style=\"color: #0087ff; text-decoration-color: #0087ff\">Activation</span>)        │ <span style=\"color: #00af00; text-decoration-color: #00af00\">64</span>)               │            │                   │\n",
       "├─────────────────────┼───────────────────┼────────────┼───────────────────┤\n",
       "│ max_pooling2d_1     │ (<span style=\"color: #00d7ff; text-decoration-color: #00d7ff\">None</span>, <span style=\"color: #00af00; text-decoration-color: #00af00\">31</span>, <span style=\"color: #00af00; text-decoration-color: #00af00\">10</span>,    │          <span style=\"color: #00af00; text-decoration-color: #00af00\">0</span> │ activation_3[<span style=\"color: #00af00; text-decoration-color: #00af00\">0</span>][<span style=\"color: #00af00; text-decoration-color: #00af00\">…</span> │\n",
       "│ (<span style=\"color: #0087ff; text-decoration-color: #0087ff\">MaxPooling2D</span>)      │ <span style=\"color: #00af00; text-decoration-color: #00af00\">64</span>)               │            │                   │\n",
       "├─────────────────────┼───────────────────┼────────────┼───────────────────┤\n",
       "│ dropout (<span style=\"color: #0087ff; text-decoration-color: #0087ff\">Dropout</span>)   │ (<span style=\"color: #00d7ff; text-decoration-color: #00d7ff\">None</span>, <span style=\"color: #00af00; text-decoration-color: #00af00\">31</span>, <span style=\"color: #00af00; text-decoration-color: #00af00\">10</span>,    │          <span style=\"color: #00af00; text-decoration-color: #00af00\">0</span> │ max_pooling2d_1[<span style=\"color: #00af00; text-decoration-color: #00af00\">…</span> │\n",
       "│                     │ <span style=\"color: #00af00; text-decoration-color: #00af00\">64</span>)               │            │                   │\n",
       "├─────────────────────┼───────────────────┼────────────┼───────────────────┤\n",
       "│ flatten (<span style=\"color: #0087ff; text-decoration-color: #0087ff\">Flatten</span>)   │ (<span style=\"color: #00d7ff; text-decoration-color: #00d7ff\">None</span>, <span style=\"color: #00af00; text-decoration-color: #00af00\">19840</span>)     │          <span style=\"color: #00af00; text-decoration-color: #00af00\">0</span> │ dropout[<span style=\"color: #00af00; text-decoration-color: #00af00\">0</span>][<span style=\"color: #00af00; text-decoration-color: #00af00\">0</span>]     │\n",
       "├─────────────────────┼───────────────────┼────────────┼───────────────────┤\n",
       "│ dense (<span style=\"color: #0087ff; text-decoration-color: #0087ff\">Dense</span>)       │ (<span style=\"color: #00d7ff; text-decoration-color: #00d7ff\">None</span>, <span style=\"color: #00af00; text-decoration-color: #00af00\">128</span>)       │  <span style=\"color: #00af00; text-decoration-color: #00af00\">2,539,648</span> │ flatten[<span style=\"color: #00af00; text-decoration-color: #00af00\">0</span>][<span style=\"color: #00af00; text-decoration-color: #00af00\">0</span>]     │\n",
       "├─────────────────────┼───────────────────┼────────────┼───────────────────┤\n",
       "│ dropout_1 (<span style=\"color: #0087ff; text-decoration-color: #0087ff\">Dropout</span>) │ (<span style=\"color: #00d7ff; text-decoration-color: #00d7ff\">None</span>, <span style=\"color: #00af00; text-decoration-color: #00af00\">128</span>)       │          <span style=\"color: #00af00; text-decoration-color: #00af00\">0</span> │ dense[<span style=\"color: #00af00; text-decoration-color: #00af00\">0</span>][<span style=\"color: #00af00; text-decoration-color: #00af00\">0</span>]       │\n",
       "├─────────────────────┼───────────────────┼────────────┼───────────────────┤\n",
       "│ dense_1 (<span style=\"color: #0087ff; text-decoration-color: #0087ff\">Dense</span>)     │ (<span style=\"color: #00d7ff; text-decoration-color: #00d7ff\">None</span>, <span style=\"color: #00af00; text-decoration-color: #00af00\">7</span>)         │        <span style=\"color: #00af00; text-decoration-color: #00af00\">903</span> │ dropout_1[<span style=\"color: #00af00; text-decoration-color: #00af00\">0</span>][<span style=\"color: #00af00; text-decoration-color: #00af00\">0</span>]   │\n",
       "└─────────────────────┴───────────────────┴────────────┴───────────────────┘\n",
       "</pre>\n"
      ],
      "text/plain": [
       "┏━━━━━━━━━━━━━━━━━━━━━┳━━━━━━━━━━━━━━━━━━━┳━━━━━━━━━━━━┳━━━━━━━━━━━━━━━━━━━┓\n",
       "┃\u001b[1m \u001b[0m\u001b[1mLayer (type)       \u001b[0m\u001b[1m \u001b[0m┃\u001b[1m \u001b[0m\u001b[1mOutput Shape     \u001b[0m\u001b[1m \u001b[0m┃\u001b[1m \u001b[0m\u001b[1m   Param #\u001b[0m\u001b[1m \u001b[0m┃\u001b[1m \u001b[0m\u001b[1mConnected to     \u001b[0m\u001b[1m \u001b[0m┃\n",
       "┡━━━━━━━━━━━━━━━━━━━━━╇━━━━━━━━━━━━━━━━━━━╇━━━━━━━━━━━━╇━━━━━━━━━━━━━━━━━━━┩\n",
       "│ input_layer         │ (\u001b[38;5;45mNone\u001b[0m, \u001b[38;5;34m126\u001b[0m, \u001b[38;5;34m40\u001b[0m,   │          \u001b[38;5;34m0\u001b[0m │ -                 │\n",
       "│ (\u001b[38;5;33mInputLayer\u001b[0m)        │ \u001b[38;5;34m1\u001b[0m)                │            │                   │\n",
       "├─────────────────────┼───────────────────┼────────────┼───────────────────┤\n",
       "│ conv2d_1 (\u001b[38;5;33mConv2D\u001b[0m)   │ (\u001b[38;5;45mNone\u001b[0m, \u001b[38;5;34m126\u001b[0m, \u001b[38;5;34m40\u001b[0m,   │      \u001b[38;5;34m1,280\u001b[0m │ input_layer[\u001b[38;5;34m0\u001b[0m][\u001b[38;5;34m0\u001b[0m] │\n",
       "│                     │ \u001b[38;5;34m128\u001b[0m)              │            │                   │\n",
       "├─────────────────────┼───────────────────┼────────────┼───────────────────┤\n",
       "│ activation          │ (\u001b[38;5;45mNone\u001b[0m, \u001b[38;5;34m126\u001b[0m, \u001b[38;5;34m40\u001b[0m,   │          \u001b[38;5;34m0\u001b[0m │ conv2d_1[\u001b[38;5;34m0\u001b[0m][\u001b[38;5;34m0\u001b[0m]    │\n",
       "│ (\u001b[38;5;33mActivation\u001b[0m)        │ \u001b[38;5;34m128\u001b[0m)              │            │                   │\n",
       "├─────────────────────┼───────────────────┼────────────┼───────────────────┤\n",
       "│ conv2d_2 (\u001b[38;5;33mConv2D\u001b[0m)   │ (\u001b[38;5;45mNone\u001b[0m, \u001b[38;5;34m126\u001b[0m, \u001b[38;5;34m40\u001b[0m,   │    \u001b[38;5;34m147,584\u001b[0m │ activation[\u001b[38;5;34m0\u001b[0m][\u001b[38;5;34m0\u001b[0m]  │\n",
       "│                     │ \u001b[38;5;34m128\u001b[0m)              │            │                   │\n",
       "├─────────────────────┼───────────────────┼────────────┼───────────────────┤\n",
       "│ conv2d (\u001b[38;5;33mConv2D\u001b[0m)     │ (\u001b[38;5;45mNone\u001b[0m, \u001b[38;5;34m126\u001b[0m, \u001b[38;5;34m40\u001b[0m,   │        \u001b[38;5;34m256\u001b[0m │ input_layer[\u001b[38;5;34m0\u001b[0m][\u001b[38;5;34m0\u001b[0m] │\n",
       "│                     │ \u001b[38;5;34m128\u001b[0m)              │            │                   │\n",
       "├─────────────────────┼───────────────────┼────────────┼───────────────────┤\n",
       "│ add (\u001b[38;5;33mAdd\u001b[0m)           │ (\u001b[38;5;45mNone\u001b[0m, \u001b[38;5;34m126\u001b[0m, \u001b[38;5;34m40\u001b[0m,   │          \u001b[38;5;34m0\u001b[0m │ conv2d_2[\u001b[38;5;34m0\u001b[0m][\u001b[38;5;34m0\u001b[0m],   │\n",
       "│                     │ \u001b[38;5;34m128\u001b[0m)              │            │ conv2d[\u001b[38;5;34m0\u001b[0m][\u001b[38;5;34m0\u001b[0m]      │\n",
       "├─────────────────────┼───────────────────┼────────────┼───────────────────┤\n",
       "│ activation_1        │ (\u001b[38;5;45mNone\u001b[0m, \u001b[38;5;34m126\u001b[0m, \u001b[38;5;34m40\u001b[0m,   │          \u001b[38;5;34m0\u001b[0m │ add[\u001b[38;5;34m0\u001b[0m][\u001b[38;5;34m0\u001b[0m]         │\n",
       "│ (\u001b[38;5;33mActivation\u001b[0m)        │ \u001b[38;5;34m128\u001b[0m)              │            │                   │\n",
       "├─────────────────────┼───────────────────┼────────────┼───────────────────┤\n",
       "│ max_pooling2d       │ (\u001b[38;5;45mNone\u001b[0m, \u001b[38;5;34m63\u001b[0m, \u001b[38;5;34m20\u001b[0m,    │          \u001b[38;5;34m0\u001b[0m │ activation_1[\u001b[38;5;34m0\u001b[0m][\u001b[38;5;34m…\u001b[0m │\n",
       "│ (\u001b[38;5;33mMaxPooling2D\u001b[0m)      │ \u001b[38;5;34m128\u001b[0m)              │            │                   │\n",
       "├─────────────────────┼───────────────────┼────────────┼───────────────────┤\n",
       "│ conv2d_4 (\u001b[38;5;33mConv2D\u001b[0m)   │ (\u001b[38;5;45mNone\u001b[0m, \u001b[38;5;34m63\u001b[0m, \u001b[38;5;34m20\u001b[0m,    │     \u001b[38;5;34m73,792\u001b[0m │ max_pooling2d[\u001b[38;5;34m0\u001b[0m]… │\n",
       "│                     │ \u001b[38;5;34m64\u001b[0m)               │            │                   │\n",
       "├─────────────────────┼───────────────────┼────────────┼───────────────────┤\n",
       "│ activation_2        │ (\u001b[38;5;45mNone\u001b[0m, \u001b[38;5;34m63\u001b[0m, \u001b[38;5;34m20\u001b[0m,    │          \u001b[38;5;34m0\u001b[0m │ conv2d_4[\u001b[38;5;34m0\u001b[0m][\u001b[38;5;34m0\u001b[0m]    │\n",
       "│ (\u001b[38;5;33mActivation\u001b[0m)        │ \u001b[38;5;34m64\u001b[0m)               │            │                   │\n",
       "├─────────────────────┼───────────────────┼────────────┼───────────────────┤\n",
       "│ conv2d_5 (\u001b[38;5;33mConv2D\u001b[0m)   │ (\u001b[38;5;45mNone\u001b[0m, \u001b[38;5;34m63\u001b[0m, \u001b[38;5;34m20\u001b[0m,    │     \u001b[38;5;34m36,928\u001b[0m │ activation_2[\u001b[38;5;34m0\u001b[0m][\u001b[38;5;34m…\u001b[0m │\n",
       "│                     │ \u001b[38;5;34m64\u001b[0m)               │            │                   │\n",
       "├─────────────────────┼───────────────────┼────────────┼───────────────────┤\n",
       "│ conv2d_3 (\u001b[38;5;33mConv2D\u001b[0m)   │ (\u001b[38;5;45mNone\u001b[0m, \u001b[38;5;34m63\u001b[0m, \u001b[38;5;34m20\u001b[0m,    │      \u001b[38;5;34m8,256\u001b[0m │ max_pooling2d[\u001b[38;5;34m0\u001b[0m]… │\n",
       "│                     │ \u001b[38;5;34m64\u001b[0m)               │            │                   │\n",
       "├─────────────────────┼───────────────────┼────────────┼───────────────────┤\n",
       "│ add_1 (\u001b[38;5;33mAdd\u001b[0m)         │ (\u001b[38;5;45mNone\u001b[0m, \u001b[38;5;34m63\u001b[0m, \u001b[38;5;34m20\u001b[0m,    │          \u001b[38;5;34m0\u001b[0m │ conv2d_5[\u001b[38;5;34m0\u001b[0m][\u001b[38;5;34m0\u001b[0m],   │\n",
       "│                     │ \u001b[38;5;34m64\u001b[0m)               │            │ conv2d_3[\u001b[38;5;34m0\u001b[0m][\u001b[38;5;34m0\u001b[0m]    │\n",
       "├─────────────────────┼───────────────────┼────────────┼───────────────────┤\n",
       "│ activation_3        │ (\u001b[38;5;45mNone\u001b[0m, \u001b[38;5;34m63\u001b[0m, \u001b[38;5;34m20\u001b[0m,    │          \u001b[38;5;34m0\u001b[0m │ add_1[\u001b[38;5;34m0\u001b[0m][\u001b[38;5;34m0\u001b[0m]       │\n",
       "│ (\u001b[38;5;33mActivation\u001b[0m)        │ \u001b[38;5;34m64\u001b[0m)               │            │                   │\n",
       "├─────────────────────┼───────────────────┼────────────┼───────────────────┤\n",
       "│ max_pooling2d_1     │ (\u001b[38;5;45mNone\u001b[0m, \u001b[38;5;34m31\u001b[0m, \u001b[38;5;34m10\u001b[0m,    │          \u001b[38;5;34m0\u001b[0m │ activation_3[\u001b[38;5;34m0\u001b[0m][\u001b[38;5;34m…\u001b[0m │\n",
       "│ (\u001b[38;5;33mMaxPooling2D\u001b[0m)      │ \u001b[38;5;34m64\u001b[0m)               │            │                   │\n",
       "├─────────────────────┼───────────────────┼────────────┼───────────────────┤\n",
       "│ dropout (\u001b[38;5;33mDropout\u001b[0m)   │ (\u001b[38;5;45mNone\u001b[0m, \u001b[38;5;34m31\u001b[0m, \u001b[38;5;34m10\u001b[0m,    │          \u001b[38;5;34m0\u001b[0m │ max_pooling2d_1[\u001b[38;5;34m…\u001b[0m │\n",
       "│                     │ \u001b[38;5;34m64\u001b[0m)               │            │                   │\n",
       "├─────────────────────┼───────────────────┼────────────┼───────────────────┤\n",
       "│ flatten (\u001b[38;5;33mFlatten\u001b[0m)   │ (\u001b[38;5;45mNone\u001b[0m, \u001b[38;5;34m19840\u001b[0m)     │          \u001b[38;5;34m0\u001b[0m │ dropout[\u001b[38;5;34m0\u001b[0m][\u001b[38;5;34m0\u001b[0m]     │\n",
       "├─────────────────────┼───────────────────┼────────────┼───────────────────┤\n",
       "│ dense (\u001b[38;5;33mDense\u001b[0m)       │ (\u001b[38;5;45mNone\u001b[0m, \u001b[38;5;34m128\u001b[0m)       │  \u001b[38;5;34m2,539,648\u001b[0m │ flatten[\u001b[38;5;34m0\u001b[0m][\u001b[38;5;34m0\u001b[0m]     │\n",
       "├─────────────────────┼───────────────────┼────────────┼───────────────────┤\n",
       "│ dropout_1 (\u001b[38;5;33mDropout\u001b[0m) │ (\u001b[38;5;45mNone\u001b[0m, \u001b[38;5;34m128\u001b[0m)       │          \u001b[38;5;34m0\u001b[0m │ dense[\u001b[38;5;34m0\u001b[0m][\u001b[38;5;34m0\u001b[0m]       │\n",
       "├─────────────────────┼───────────────────┼────────────┼───────────────────┤\n",
       "│ dense_1 (\u001b[38;5;33mDense\u001b[0m)     │ (\u001b[38;5;45mNone\u001b[0m, \u001b[38;5;34m7\u001b[0m)         │        \u001b[38;5;34m903\u001b[0m │ dropout_1[\u001b[38;5;34m0\u001b[0m][\u001b[38;5;34m0\u001b[0m]   │\n",
       "└─────────────────────┴───────────────────┴────────────┴───────────────────┘\n"
      ]
     },
     "metadata": {},
     "output_type": "display_data"
    },
    {
     "data": {
      "text/html": [
       "<pre style=\"white-space:pre;overflow-x:auto;line-height:normal;font-family:Menlo,'DejaVu Sans Mono',consolas,'Courier New',monospace\"><span style=\"font-weight: bold\"> Total params: </span><span style=\"color: #00af00; text-decoration-color: #00af00\">2,808,647</span> (10.71 MB)\n",
       "</pre>\n"
      ],
      "text/plain": [
       "\u001b[1m Total params: \u001b[0m\u001b[38;5;34m2,808,647\u001b[0m (10.71 MB)\n"
      ]
     },
     "metadata": {},
     "output_type": "display_data"
    },
    {
     "data": {
      "text/html": [
       "<pre style=\"white-space:pre;overflow-x:auto;line-height:normal;font-family:Menlo,'DejaVu Sans Mono',consolas,'Courier New',monospace\"><span style=\"font-weight: bold\"> Trainable params: </span><span style=\"color: #00af00; text-decoration-color: #00af00\">2,808,647</span> (10.71 MB)\n",
       "</pre>\n"
      ],
      "text/plain": [
       "\u001b[1m Trainable params: \u001b[0m\u001b[38;5;34m2,808,647\u001b[0m (10.71 MB)\n"
      ]
     },
     "metadata": {},
     "output_type": "display_data"
    },
    {
     "data": {
      "text/html": [
       "<pre style=\"white-space:pre;overflow-x:auto;line-height:normal;font-family:Menlo,'DejaVu Sans Mono',consolas,'Courier New',monospace\"><span style=\"font-weight: bold\"> Non-trainable params: </span><span style=\"color: #00af00; text-decoration-color: #00af00\">0</span> (0.00 B)\n",
       "</pre>\n"
      ],
      "text/plain": [
       "\u001b[1m Non-trainable params: \u001b[0m\u001b[38;5;34m0\u001b[0m (0.00 B)\n"
      ]
     },
     "metadata": {},
     "output_type": "display_data"
    },
    {
     "name": "stdout",
     "output_type": "stream",
     "text": [
      "Epoch 1/5\n",
      "\u001b[1m279/279\u001b[0m \u001b[32m━━━━━━━━━━━━━━━━━━━━\u001b[0m\u001b[37m\u001b[0m \u001b[1m248s\u001b[0m 871ms/step - accuracy: 0.4601 - loss: 7.3441 - val_accuracy: 0.8509 - val_loss: 0.3704\n",
      "Epoch 2/5\n",
      "\u001b[1m279/279\u001b[0m \u001b[32m━━━━━━━━━━━━━━━━━━━━\u001b[0m\u001b[37m\u001b[0m \u001b[1m240s\u001b[0m 860ms/step - accuracy: 0.8447 - loss: 0.4425 - val_accuracy: 0.9241 - val_loss: 0.2125\n",
      "Epoch 3/5\n",
      "\u001b[1m279/279\u001b[0m \u001b[32m━━━━━━━━━━━━━━━━━━━━\u001b[0m\u001b[37m\u001b[0m \u001b[1m241s\u001b[0m 862ms/step - accuracy: 0.8922 - loss: 0.3075 - val_accuracy: 0.9385 - val_loss: 0.1809\n",
      "Epoch 4/5\n",
      "\u001b[1m279/279\u001b[0m \u001b[32m━━━━━━━━━━━━━━━━━━━━\u001b[0m\u001b[37m\u001b[0m \u001b[1m240s\u001b[0m 860ms/step - accuracy: 0.9076 - loss: 0.2760 - val_accuracy: 0.9380 - val_loss: 0.1587\n",
      "Epoch 5/5\n",
      "\u001b[1m279/279\u001b[0m \u001b[32m━━━━━━━━━━━━━━━━━━━━\u001b[0m\u001b[37m\u001b[0m \u001b[1m240s\u001b[0m 860ms/step - accuracy: 0.9225 - loss: 0.2384 - val_accuracy: 0.9389 - val_loss: 0.1818\n"
     ]
    }
   ],
   "source": [
    "import tensorflow as tf\n",
    "from tensorflow import keras\n",
    "\n",
    "def residual_block(x, filters, conv_num=3, activation=\"relu\"):\n",
    "    s = keras.layers.Conv2D(filters, 1, padding=\"same\")(x)\n",
    "\n",
    "    for i in range(conv_num - 1):\n",
    "        x = keras.layers.Conv2D(filters, 3, padding=\"same\")(x)\n",
    "        x = keras.layers.Activation(activation)(x)\n",
    "\n",
    "    x = keras.layers.Conv2D(filters, 3, padding=\"same\")(x)\n",
    "    x = keras.layers.Add()([x, s])\n",
    "    x = keras.layers.Activation(activation)(x)\n",
    "\n",
    "    return keras.layers.MaxPooling2D(pool_size=(2, 2))(x)\n",
    "\n",
    "def create_model(speech_feature):\n",
    "    model = tf.keras.Sequential()\n",
    "   \n",
    "    # First residual block\n",
    "    inputs = tf.keras.layers.Input(shape=(126, 40, 1))\n",
    "    x = residual_block(inputs, 128, 2)\n",
    "    \n",
    "    # Second residual block\n",
    "    x = residual_block(x, 64, 2)\n",
    "    \n",
    "    # Dropout layer for regularization\n",
    "    x = tf.keras.layers.Dropout(0.25)(x)\n",
    "    \n",
    "    # Flatten the output\n",
    "    x = tf.keras.layers.Flatten()(x)\n",
    "    \n",
    "    # Fully connected layers\n",
    "    x = tf.keras.layers.Dense(128, activation=\"relu\")(x)\n",
    "    x = tf.keras.layers.Dropout(0.5)(x)\n",
    "    \n",
    "    # Output layer\n",
    "    outputs = tf.keras.layers.Dense(7, activation=\"softmax\")(x)\n",
    "    \n",
    "    # Create the model\n",
    "    model = tf.keras.models.Model(inputs=inputs, outputs=outputs)\n",
    "\n",
    "    model.compile(optimizer=\"Adam\",\n",
    "                  loss=\"categorical_crossentropy\",\n",
    "                  metrics=[\"accuracy\"])\n",
    "    \n",
    "    return model\n",
    "    \n",
    "model = create_model(\"mfcc\")\n",
    "model.summary()\n",
    "\n",
    "# Assuming train_x_new, train_y, test_x_new, and test_y are already defined\n",
    "h= model.fit(x=train_x_new, y=train_y, epochs=5, validation_data=(test_x_new, test_y))\n"
   ]
  },
  {
   "cell_type": "code",
   "execution_count": null,
   "metadata": {},
   "outputs": [],
   "source": [
    "\n"
   ]
  },
  {
   "cell_type": "code",
   "execution_count": 21,
   "metadata": {},
   "outputs": [
    {
     "data": {
      "image/png": "[encoded data removed]",
      "text/plain": [
       "<Figure size 640x480 with 1 Axes>"
      ]
     },
     "metadata": {},
     "output_type": "display_data"
    }
   ],
   "source": [
    "# graph when epoch are 10\n",
    "from keras.callbacks import History\n",
    "import matplotlib.pyplot as plt\n",
    "# Plot training vs validation loss\n",
    "plt.plot(h.history['loss'], label='Training Loss')\n",
    "plt.plot(h.history['val_loss'], label='Validation Loss')\n",
    "plt.xlabel('Epochs')\n",
    "plt.ylabel('Loss')\n",
    "plt.legend()\n",
    "plt.show()"
   ]
  },
  {
   "cell_type": "code",
   "execution_count": 22,
   "metadata": {},
   "outputs": [
    {
     "name": "stderr",
     "output_type": "stream",
     "text": [
      "WARNING:absl:You are saving your model as an HDF5 file via `model.save()` or `keras.saving.save_model(model)`. This file format is considered legacy. We recommend using instead the native Keras format, e.g. `model.save('my_model.keras')` or `keras.saving.save_model(model, 'my_model.keras')`. \n"
     ]
    }
   ],
   "source": [
    "model.save('speakermo.h5')"
   ]
  },
  {
   "cell_type": "code",
   "execution_count": 1,
   "metadata": {},
   "outputs": [],
   "source": [
    "from tensorflow.keras.models import load_model\n"
   ]
  },
  {
   "cell_type": "code",
   "execution_count": 2,
   "metadata": {},
   "outputs": [
    {
     "name": "stderr",
     "output_type": "stream",
     "text": [
      "WARNING:absl:Compiled the loaded model, but the compiled metrics have yet to be built. `model.compile_metrics` will be empty until you train or evaluate the model.\n"
     ]
    }
   ],
   "source": [
    "loaded_model = load_model(r'speakermo.h5')"
   ]
  },
  {
   "cell_type": "code",
   "execution_count": 3,
   "metadata": {},
   "outputs": [
    {
     "name": "stderr",
     "output_type": "stream",
     "text": [
      "c:\\Users\\HP\\Desktop\\project\\pro\\Lib\\site-packages\\librosa\\feature\\spectral.py:2143: UserWarning: Empty filters detected in mel frequency basis. Some channels will produce empty responses. Try increasing your sampling rate (and fmax) or reducing n_mels.\n",
      "  mel_basis = filters.mel(sr=sr, n_fft=n_fft, **kwargs)\n"
     ]
    },
    {
     "name": "stdout",
     "output_type": "stream",
     "text": [
      "\u001b[1m10/10\u001b[0m \u001b[32m━━━━━━━━━━━━━━━━━━━━\u001b[0m\u001b[37m\u001b[0m \u001b[1m3s\u001b[0m 260ms/step\n",
      "Jens Stoltenberg\n"
     ]
    }
   ],
   "source": [
    "import numpy as np\n",
    "import tensorflow as tf\n",
    "import librosa\n",
    "\n",
    "audio_data = r\"newfolder\\2024-05-11_13-30-33.wav\"\n",
    "predicted_speakers = []\n",
    "def predict(audio_data,predicted_speakers):\n",
    "# Example audio data \n",
    "\n",
    "# Load audio data\n",
    "    n_audio_data, sr = librosa.load(audio_data, sr=16000)\n",
    "\n",
    "# Split audio into frames\n",
    "    frame_length = 16000  # Adjust as needed based on your hop size\n",
    "    hop_length = 512     # Adjust as needed based on your hop size\n",
    "    num_frames = (len(n_audio_data) - frame_length) // hop_length + 1\n",
    "\n",
    "# Prepare an array to store processed frames\n",
    "    processed_frames = np.zeros((num_frames, 126, 40))\n",
    "\n",
    "    for i in range(num_frames):\n",
    "        start = i * hop_length\n",
    "        end = start + frame_length\n",
    "        audio_frame = n_audio_data[start:end]\n",
    "\n",
    "    # Calculate MFCC features and coefficients\n",
    "        mfcc = librosa.feature.mfcc(y=audio_frame, sr=sr, hop_length=128, n_fft=256, n_mfcc=20)\n",
    "        mfcc_delta = librosa.feature.delta(mfcc)[:10, :]\n",
    "        mfcc_double_delta = librosa.feature.delta(mfcc, order=2)[:10, :]\n",
    "\n",
    "    # Combine all features\n",
    "        concatenated_features = np.concatenate((mfcc, mfcc_delta, mfcc_double_delta), axis=0)\n",
    "    \n",
    "    # Transpose the concatenated features\n",
    "\n",
    "       \n",
    "        concatenated_features = concatenated_features.T\n",
    "    \n",
    "    # Store processed frame\n",
    "        processed_frames[i] = concatenated_features\n",
    "\n",
    "# Reshape and expand dimensions to match the model's expected input shape\n",
    "    new_data = np.expand_dims(processed_frames, axis=3)\n",
    "\n",
    "# Make predictions\n",
    "    predictions = loaded_model.predict(new_data)\n",
    "\n",
    "    \n",
    "    for i in np.argmax(predictions, axis=1):\n",
    "        if i == 0:\n",
    "            predicted_speakers.append(\"Nelson Mandela\")\n",
    "        elif i == 1:\n",
    "            predicted_speakers.append(\"Margaret Thatcher\")\n",
    "        elif i == 2:\n",
    "            predicted_speakers.append(\"Benjamin Netanyahu\")\n",
    "        elif i == 3:\n",
    "            predicted_speakers.append(\"Jens Stoltenberg\")\n",
    "        elif i == 4:\n",
    "            predicted_speakers.append(\"Julia Gillard\")\n",
    "        elif i == 5:\n",
    "            predicted_speakers.append(\"Rishit Saboo\")\n",
    "        elif i == 6:\n",
    "            predicted_speakers.append(\"Daaman Shah\")\n",
    "    \n",
    "    from statistics import mode\n",
    "    spock = mode(predicted_speakers)\n",
    "    print(spock)\n",
    "\n",
    "predict(audio_data,predicted_speakers)"
   ]
  },
  {
   "cell_type": "code",
   "execution_count": 5,
   "metadata": {},
   "outputs": [
    {
     "name": "stdout",
     "output_type": "stream",
     "text": [
      "\u001b[1m117/117\u001b[0m \u001b[32m━━━━━━━━━━━━━━━━━━━━\u001b[0m\u001b[37m\u001b[0m \u001b[1m25s\u001b[0m 216ms/step\n",
      "Julia Gillard\n",
      "None\n"
     ]
    }
   ],
   "source": [
    "file=r\"C:\\Users\\HP\\Desktop\\boo\\beta\\Julia_Gillard_combined.wav\"\n",
    "\n",
    "name = predict(file, predicted_speakers)\n",
    "print(name)"
   ]
  },
  {
   "cell_type": "code",
   "execution_count": 4,
   "metadata": {},
   "outputs": [
    {
     "name": "stderr",
     "output_type": "stream",
     "text": [
      "c:\\Users\\HP\\Desktop\\project\\pro\\Lib\\site-packages\\tqdm\\auto.py:21: TqdmWarning: IProgress not found. Please update jupyter and ipywidgets. See https://ipywidgets.readthedocs.io/en/stable/user_install.html\n",
      "  from .autonotebook import tqdm as notebook_tqdm\n"
     ]
    },
    {
     "name": "stdout",
     "output_type": "stream",
     "text": [
      "Transcription :\n",
      "Detected language 'ja' with probability 0.991211\n",
      "ここはカナダのセントロレース湾です。\n",
      "今は4月。\n",
      "毎年この時期になると、\n",
      "たてごたあざらしの母親が出産をするため、\n",
      "この流氷の上にやってくるんでそうです。\n",
      "あ、いますね。\n",
      "遠くからでもわかります。\n",
      "ほら、見えますか?\n",
      "あの大きい母親の影に隠れるように寄り添っているのが、\n",
      "生まれたばかりの赤ちゃんですね。\n",
      "おや?\n",
      "母親が赤ちゃんを残して、海の中に入っていきました。\n",
      "もうちょっと、赤ちゃんに近づいてみましょう。\n",
      "ほら、ご覧ください。\n",
      "これが、たてごたあざらしの赤ちゃんです。\n",
      "かわいいですね。\n",
      "今は体重およそ8キロ。\n",
      "これから一人立ちを迎えるまでの3週間。\n",
      "この赤ちゃんの成長ぶりを、\n",
      "皆さんと一緒に見ていくことにしましょう。\n"
     ]
    }
   ],
   "source": [
    "from faster_whisper import WhisperModel \n",
    "def main3():\n",
    "\n",
    "    model_size = \"medium\"\n",
    "\n",
    "# Run on GPU with FP16\n",
    "    model = WhisperModel(model_size, device=\"cuda\", compute_type=\"float16\")\n",
    "\n",
    "    name2 = r\"C:\\Users\\HP\\Desktop\\project\\03.wav\"\n",
    "    name3 = [name2]\n",
    "\n",
    "    segments, info = model.transcribe(name2, beam_size=7)\n",
    "\n",
    "    print(\"Transcription :\")\n",
    "    print(\"Detected language '%s' with probability %f\" % (info.language, info.language_probability))\n",
    "\n",
    "    for segment in segments:\n",
    "        print(segment.text)\n",
    "    \n",
    "    # name = predict(name3, labels)\n",
    "    # print(name)\n",
    "  \n",
    "   \n",
    "  \n",
    "main3()\n"
   ]
  },
  {
   "cell_type": "code",
   "execution_count": 28,
   "metadata": {},
   "outputs": [
    {
     "data": {
      "text/plain": [
       "array([[2.09611356e-10, 6.30889982e-02, 9.36329603e-01, ...,\n",
       "        5.73595113e-04, 1.24151134e-09, 9.60708704e-08],\n",
       "       [2.01397097e-06, 2.77811137e-06, 2.61990429e-11, ...,\n",
       "        9.99995232e-01, 4.95728944e-16, 2.26740386e-14],\n",
       "       [5.16956896e-20, 2.96171800e-23, 3.85162200e-25, ...,\n",
       "        2.50594387e-18, 9.42902090e-10, 1.00000000e+00],\n",
       "       ...,\n",
       "       [2.15291095e-07, 1.55559647e-13, 4.66147337e-14, ...,\n",
       "        9.27781318e-09, 9.23123121e-01, 7.68766627e-02],\n",
       "       [1.40828198e-35, 1.00000000e+00, 1.11477952e-10, ...,\n",
       "        1.27423554e-18, 6.03579034e-30, 8.63236478e-21],\n",
       "       [2.23981300e-09, 1.24918181e-03, 9.97512579e-01, ...,\n",
       "        7.03811995e-04, 7.94046340e-09, 1.01799245e-07]], dtype=float32)"
      ]
     },
     "execution_count": 28,
     "metadata": {},
     "output_type": "execute_result"
    }
   ],
   "source": [
    "predicted_labels"
   ]
  },
  {
   "cell_type": "code",
   "execution_count": 29,
   "metadata": {},
   "outputs": [
    {
     "data": {
      "text/plain": [
       "array([[0., 0., 1., ..., 0., 0., 0.],\n",
       "       [0., 0., 0., ..., 1., 0., 0.],\n",
       "       [0., 0., 0., ..., 0., 0., 1.],\n",
       "       ...,\n",
       "       [0., 0., 0., ..., 0., 1., 0.],\n",
       "       [0., 1., 0., ..., 0., 0., 0.],\n",
       "       [0., 0., 1., ..., 0., 0., 0.]])"
      ]
     },
     "execution_count": 29,
     "metadata": {},
     "output_type": "execute_result"
    }
   ],
   "source": [
    "test_y"
   ]
  },
  {
   "cell_type": "code",
   "execution_count": 30,
   "metadata": {},
   "outputs": [
    {
     "name": "stdout",
     "output_type": "stream",
     "text": [
      "\u001b[1m70/70\u001b[0m \u001b[32m━━━━━━━━━━━━━━━━━━━━\u001b[0m\u001b[37m\u001b[0m \u001b[1m14s\u001b[0m 196ms/step\n",
      "Metrics for Nelson Mandela:\n",
      "Precision: 0.9822\n",
      "Recall: 0.8875\n",
      "F1-Score: 0.9324\n",
      "--------------------------\n",
      "Metrics for Margaret Thatcher:\n",
      "Precision: 0.9780\n",
      "Recall: 0.9201\n",
      "F1-Score: 0.9482\n",
      "--------------------------\n",
      "Metrics for Benjamin Netanyau:\n",
      "Precision: 0.9869\n",
      "Recall: 0.9233\n",
      "F1-Score: 0.9540\n",
      "--------------------------\n",
      "Metrics for Jens Stoltenberg:\n",
      "Precision: 0.9891\n",
      "Recall: 0.8944\n",
      "F1-Score: 0.9393\n",
      "--------------------------\n",
      "Metrics for Julia Gillard:\n",
      "Precision: 0.9250\n",
      "Recall: 0.8385\n",
      "F1-Score: 0.8796\n",
      "--------------------------\n",
      "Metrics for Daaman Shah:\n",
      "Precision: 1.0000\n",
      "Recall: 0.9718\n",
      "F1-Score: 0.9857\n",
      "--------------------------\n",
      "Metrics for Rishit Saboo:\n",
      "Precision: 0.9685\n",
      "Recall: 1.0000\n",
      "F1-Score: 0.9840\n",
      "--------------------------\n"
     ]
    }
   ],
   "source": [
    "import numpy as np\n",
    "from sklearn.metrics import precision_score, recall_score, f1_score, classification_report\n",
    "\n",
    "\n",
    "\n",
    "# Get model predictions\n",
    "test_predictions = loaded_model.predict(test_x_new)\n",
    "predicted_labels = (test_predictions> 0.5).astype(int)  # Convert probabilities to binary predictions > 0.5).astype(int)\n",
    "\n",
    "# Calculate precision, recall, and F1-score for each class\n",
    "precision_scores = precision_score(test_y, predicted_labels, average=None)\n",
    "recall_scores = recall_score(test_y, predicted_labels, average=None)\n",
    "f1_scores = f1_score(test_y, predicted_labels, average=None)\n",
    "\n",
    "# Print the metrics for each class\n",
    "class_labels = [\"Nelson Mandela\", \"Margaret Thatcher\", \"Benjamin Netanyau\", \"Jens Stoltenberg\", \"Julia Gillard\",\"Daaman Shah\",\"Rishit Saboo\"]\n",
    "for i, label in enumerate(class_labels):\n",
    "    print(f\"Metrics for {label}:\")\n",
    "    print(f\"Precision: {precision_scores[i]:.4f}\")\n",
    "    print(f\"Recall: {recall_scores[i]:.4f}\")\n",
    "    print(f\"F1-Score: {f1_scores[i]:.4f}\")\n",
    "    print(\"--------------------------\")\n",
    "\n",
    "\n"
   ]
  },
  {
   "cell_type": "code",
   "execution_count": 33,
   "metadata": {},
   "outputs": [
    {
     "name": "stdout",
     "output_type": "stream",
     "text": [
      "Micro-average Metrics:\n",
      "Micro-Precision: 0.9752\n",
      "Micro-Recall: 0.9169\n",
      "Micro F1-Score: 0.9452\n",
      "\n",
      "Classification Report:\n",
      "                   precision    recall  f1-score   support\n",
      "\n",
      "   Nelson Mandela       0.98      0.89      0.93       311\n",
      "Margaret Thatcher       0.98      0.92      0.95       338\n",
      "Benjamin Netanyau       0.99      0.92      0.95       326\n",
      " Jens Stoltenberg       0.99      0.89      0.94       303\n",
      "    Julia Gillard       0.93      0.84      0.88       353\n",
      "      Daaman Shah       1.00      0.97      0.99       319\n",
      "     Rishit Saboo       0.97      1.00      0.98       277\n",
      "\n",
      "        micro avg       0.98      0.92      0.95      2227\n",
      "        macro avg       0.98      0.92      0.95      2227\n",
      "     weighted avg       0.97      0.92      0.94      2227\n",
      "      samples avg       0.92      0.92      0.92      2227\n",
      "\n",
      "Accuracy: 0.9169286035024697\n",
      "Precision: 0.9749623840581353\n",
      "Recall: 0.9169286035024697\n",
      "F1-Score: 0.9446015900741837\n",
      "ROC-AUC: 0.996516122398115\n",
      "Log Loss: 0.18168169276471538\n"
     ]
    },
    {
     "name": "stderr",
     "output_type": "stream",
     "text": [
      "c:\\Users\\HP\\Desktop\\project\\pro\\Lib\\site-packages\\sklearn\\metrics\\_classification.py:1509: UndefinedMetricWarning: Precision is ill-defined and being set to 0.0 in samples with no predicted labels. Use `zero_division` parameter to control this behavior.\n",
      "  _warn_prf(average, modifier, f\"{metric.capitalize()} is\", len(result))\n",
      "c:\\Users\\HP\\Desktop\\project\\pro\\Lib\\site-packages\\sklearn\\metrics\\_classification.py:2981: UserWarning: The y_pred values do not sum to one. Starting from 1.5 thiswill result in an error.\n",
      "  warnings.warn(\n"
     ]
    }
   ],
   "source": [
    "from sklearn.metrics import accuracy_score, precision_score, recall_score, f1_score, confusion_matrix, roc_auc_score, log_loss\n",
    "\n",
    "# Calculate and print overall metrics\n",
    "micro_precision = precision_score(test_y, predicted_labels, average='micro')\n",
    "micro_recall = recall_score(test_y, predicted_labels, average='micro')\n",
    "micro_f1 = f1_score(test_y, predicted_labels, average='micro')\n",
    "\n",
    "print(\"Micro-average Metrics:\")\n",
    "print(f\"Micro-Precision: {micro_precision:.4f}\")\n",
    "print(f\"Micro-Recall: {micro_recall:.4f}\")\n",
    "print(f\"Micro F1-Score: {micro_f1:.4f}\")\n",
    "\n",
    "# Print classification report\n",
    "print(\"\\nClassification Report:\")\n",
    "print(classification_report(test_y, predicted_labels, target_names=class_labels))\n",
    "\n",
    "# Accuracy\n",
    "accuracy = accuracy_score(test_y, predicted_labels)\n",
    "\n",
    "# Precision, Recall, F1-Score\n",
    "precision = precision_score(test_y, predicted_labels, average='weighted')\n",
    "recall = recall_score(test_y, predicted_labels, average='weighted')\n",
    "f1 = f1_score(test_y, predicted_labels, average='weighted')\n",
    "\n",
    "\n",
    "# ROC-AUC (if it's a binary classification problem)\n",
    "auc = roc_auc_score(test_y, test_predictions)\n",
    "\n",
    "# Log Loss\n",
    "log_loss_value = log_loss(test_y,test_predictions)\n",
    "\n",
    "print(f'Accuracy: {accuracy}')\n",
    "print(f'Precision: {precision}')\n",
    "print(f'Recall: {recall}')\n",
    "print(f'F1-Score: {f1}')\n",
    "print(f'ROC-AUC: {auc}')\n",
    "print(f'Log Loss: {log_loss_value}')"
   ]
  },
  {
   "cell_type": "code",
   "execution_count": 35,
   "metadata": {},
   "outputs": [
    {
     "name": "stdout",
     "output_type": "stream",
     "text": [
      "Accuracy: 0.9169286035024697\n",
      "Precision: 0.9749623840581353\n",
      "Recall: 0.9169286035024697\n",
      "F1-Score: 0.9446015900741837\n",
      "Confusion Matrix: \n",
      "[[309   0   0   0   2   0   0]\n",
      " [ 15 311   0   1  11   0   0]\n",
      " [ 17   4 301   2   2   0   0]\n",
      " [ 19   2   2 271   9   0   0]\n",
      " [ 54   1   2   0 296   0   0]\n",
      " [  0   0   0   0   0 310   9]\n",
      " [  0   0   0   0   0   0 277]]\n",
      "ROC-AUC: 0.996516122398115\n",
      "Log Loss: 0.18168169276471538\n"
     ]
    },
    {
     "name": "stderr",
     "output_type": "stream",
     "text": [
      "c:\\Users\\HP\\Desktop\\project\\pro\\Lib\\site-packages\\sklearn\\metrics\\_classification.py:2981: UserWarning: The y_pred values do not sum to one. Starting from 1.5 thiswill result in an error.\n",
      "  warnings.warn(\n"
     ]
    }
   ],
   "source": [
    "from sklearn.metrics import accuracy_score, precision_score, recall_score, f1_score, confusion_matrix, roc_auc_score, log_loss\n",
    "\n",
    "# Assuming y_true are the true labels and y_pred are the predicted labels\n",
    "# y_pred_prob are the predicted probabilities for the positive class\n",
    "\n",
    "# Accuracy\n",
    "accuracy = accuracy_score(test_y, predicted_labels)\n",
    "\n",
    "# Precision, Recall, F1-Score\n",
    "precision = precision_score(test_y, predicted_labels, average='weighted')\n",
    "recall = recall_score(test_y, predicted_labels, average='weighted')\n",
    "f1 = f1_score(test_y, predicted_labels, average='weighted')\n",
    "\n",
    "# Confusion Matrix\n",
    "conf_matrix = confusion_matrix(test_y.argmax(axis=1),predicted_labels.argmax(axis=1))\n",
    "\n",
    "# ROC-AUC (if it's a binary classification problem)\n",
    "auc = roc_auc_score(test_y, test_predictions)\n",
    "\n",
    "# Log Loss\n",
    "log_loss_value = log_loss(test_y,test_predictions)\n",
    "\n",
    "print(f'Accuracy: {accuracy}')\n",
    "print(f'Precision: {precision}')\n",
    "print(f'Recall: {recall}')\n",
    "print(f'F1-Score: {f1}')\n",
    "print(f'Confusion Matrix: \\n{conf_matrix}')\n",
    "print(f'ROC-AUC: {auc}')\n",
    "print(f'Log Loss: {log_loss_value}')"
   ]
  },
  {
   "cell_type": "code",
   "execution_count": 38,
   "metadata": {},
   "outputs": [
    {
     "name": "stdout",
     "output_type": "stream",
     "text": [
      "with normalization\n"
     ]
    },
    {
     "data": {
      "image/png": "[encoded data removed]",
      "text/plain": [
       "<Figure size 1000x1000 with 1 Axes>"
      ]
     },
     "metadata": {},
     "output_type": "display_data"
    }
   ],
   "source": [
    "import itertools\n",
    "import matplotlib.pyplot as plt\n",
    "from sklearn.metrics import classification_report , confusion_matrix, accuracy_score\n",
    "def plot_confusion_matrix(cm,classes,normalize=False,title='confusion matrix',cmap=plt.cm.Blues):\n",
    "    if normalize:\n",
    "        cm =cm.astype('float')/cm.sum(axis=1)[:,np.newaxis]\n",
    "        print(\"with normalization\")\n",
    "    else:\n",
    "        print('confusion matrix without normalization')\n",
    "\n",
    "    plt.imshow(cm,interpolation='nearest', cmap=cmap)\n",
    "    plt.title(title,weight='bold',fontsize=16)\n",
    "    tick_marks =np.arange(len(classes))\n",
    "    plt.xticks(tick_marks,classes,fontsize=14,rotation=17)\n",
    "    plt.yticks(tick_marks,classes,fontsize=14 )\n",
    "\n",
    "    fmt='.2f' if normalize else 'd'\n",
    "    thresh =cm.max()/2.\n",
    "    for i , j in itertools.product(range(cm.shape[0]),range(cm.shape[1])):\n",
    "        plt.text(j,i,format(cm[i,j],fmt), \n",
    "                 horizontalalignment=\"center\",fontsize= 12,weight= 'bold',\n",
    "                 color=\"white\" if cm[i,j] > thresh else \"black\")\n",
    "    \n",
    "    plt.tight_layout()\n",
    "    plt.ylabel('True Label', fontsize=16,weight='bold')\n",
    "    plt.xlabel('predicted Label', fontsize=16,weight='bold')\n",
    "\n",
    "cnf_matrix = confusion_matrix(test_y.argmax(axis=1),predicted_labels.argmax(axis=1))\n",
    "np.set_printoptions(precision=2)\n",
    "plt.figure(figsize=(10,10))\n",
    "\n",
    "plot_confusion_matrix(cnf_matrix,classes=['Nelson Mandela','Margaret Thatcher ','Benjamin Netanyau','Jens Stoltenberg','Julia Gillard','Daaman Shah','Rishit Saboo'],normalize=True,title=\"Confusion Matrix\")\n",
    "plt.show()"
   ]
  },
  {
   "cell_type": "code",
   "execution_count": 40,
   "metadata": {},
   "outputs": [
    {
     "data": {
      "image/png": "[encoded data removed]",
      "text/plain": [
       "<Figure size 1400x600 with 2 Axes>"
      ]
     },
     "metadata": {},
     "output_type": "display_data"
    }
   ],
   "source": [
    "import matplotlib.pyplot as plt\n",
    "from keras.callbacks import History\n",
    "import tensorflow as tf\n",
    "\n",
    "\n",
    "def plot_training_history(h):\n",
    "    \"\"\"\n",
    "    Plots the training and validation loss and accuracy to check for overfitting or underfitting.\n",
    "\n",
    "    Parameters:\n",
    "    - history: The history object returned by the model's `fit` method.\n",
    "    \"\"\"\n",
    "    # Extracting data from the history object\n",
    "    train_loss = h.history['loss']\n",
    "    val_loss = h.history['val_loss']\n",
    "    train_acc = h.history['accuracy']\n",
    "    val_acc = h.history['val_accuracy']\n",
    "\n",
    "    # Number of epochs\n",
    "    epochs = range(1, len(train_loss) + 1)\n",
    "\n",
    "    # Plotting training and validation loss\n",
    "    plt.figure(figsize=(14, 6))\n",
    "\n",
    "    plt.subplot(1, 2, 1)\n",
    "    plt.plot(epochs, train_loss, 'b', label='Training Loss')\n",
    "    plt.plot(epochs, val_loss, 'r', label='Validation Loss')\n",
    "    plt.title('Training and Validation Loss')\n",
    "    plt.xlabel('Epochs')\n",
    "    plt.ylabel('Loss')\n",
    "    plt.legend()\n",
    "\n",
    "    # Plotting training and validation accuracy\n",
    "    plt.subplot(1, 2, 2)\n",
    "    plt.plot(epochs, train_acc, 'b', label='Training Accuracy')\n",
    "    plt.plot(epochs, val_acc, 'r', label='Validation Accuracy')\n",
    "    plt.title('Training and Validation Accuracy')\n",
    "    plt.xlabel('Epochs')\n",
    "    plt.ylabel('Accuracy')\n",
    "    plt.legend()\n",
    "\n",
    "    plt.show()\n",
    "\n",
    "# Example usage with your model's training history\n",
    "plot_training_history(h)\n"
   ]
  }
 ],
 "metadata": {
  "kernelspec": {
   "display_name": "pro",
   "language": "python",
   "name": "python3"
  },
  "language_info": {
   "codemirror_mode": {
    "name": "ipython",
    "version": 3
   },
   "file_extension": ".py",
   "mimetype": "text/x-python",
   "name": "python",
   "nbconvert_exporter": "python",
   "pygments_lexer": "ipython3",
   "version": "3.12.2"
  }
 },
 "nbformat": 4,
 "nbformat_minor": 2
}
